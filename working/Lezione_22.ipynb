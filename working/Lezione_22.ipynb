{
 "cells": [
  {
   "cell_type": "markdown",
   "id": "b447c29c",
   "metadata": {},
   "source": [
    "# Galaxies vs quasars with neural networks."
   ]
  },
  {
   "cell_type": "code",
   "execution_count": 1,
   "id": "775ac128",
   "metadata": {},
   "outputs": [
    {
     "name": "stderr",
     "output_type": "stream",
     "text": [
      "C:\\Users\\utente\\anaconda3\\lib\\site-packages\\scipy\\__init__.py:155: UserWarning: A NumPy version >=1.18.5 and <1.25.0 is required for this version of SciPy (detected version 1.26.4\n",
      "  warnings.warn(f\"A NumPy version >={np_minversion} and <{np_maxversion}\"\n"
     ]
    }
   ],
   "source": [
    "import numpy as np\n",
    "import pylab as plt\n",
    "\n",
    "import sklearn.model_selection\n",
    "from sklearn.neural_network import MLPClassifier\n",
    "from sklearn.metrics import roc_curve\n",
    "from sklearn.preprocessing import StandardScaler\n",
    "from sklearn.model_selection import GridSearchCV"
   ]
  },
  {
   "cell_type": "markdown",
   "id": "9e871daa",
   "metadata": {},
   "source": [
    "**1)**"
   ]
  },
  {
   "cell_type": "markdown",
   "id": "ab95520c",
   "metadata": {},
   "source": [
    "- Read in SDSS galaxy color data from `solutions/galaxyquasar.csv`. Create arrays for the $(u-g)$, $(g-r)$, $(r-i)$, and $(i-z)$ colors. Also create an array with the class labels where galaxy=$0$ and quasar=$1$. \n"
   ]
  },
  {
   "cell_type": "code",
   "execution_count": 2,
   "id": "1a61211e",
   "metadata": {},
   "outputs": [
    {
     "name": "stdout",
     "output_type": "stream",
     "text": [
      "('u', 'g', 'r', 'i', 'z', 'z1')\n"
     ]
    }
   ],
   "source": [
    "# Here, we import the data in order to get 'names'\n",
    "data_0 = np.genfromtxt('../solutions/galaxyquasar.csv',delimiter=',',names =True, usecols = (0,1,2,3,4,6),dtype=float)\n",
    "\n",
    "#Let's take our target(label)\n",
    "names = data_0.dtype.names\n",
    "print(names)"
   ]
  },
  {
   "cell_type": "code",
   "execution_count": 3,
   "id": "f7333227",
   "metadata": {},
   "outputs": [],
   "source": [
    "# Here, we import the data in order to get 'names'\n",
    "data = np.genfromtxt('../solutions/galaxyquasar.csv',delimiter=',', usecols = (0,1,2,3,4,6),dtype=float,skip_header=1)"
   ]
  },
  {
   "cell_type": "code",
   "execution_count": 4,
   "id": "14b6ba58",
   "metadata": {},
   "outputs": [],
   "source": [
    "lab = np.genfromtxt('../solutions/galaxyquasar.csv',delimiter=',', usecols = (5),dtype=str,skip_header=1)\n",
    "#gq = set(GQ)\n",
    "\n",
    "y = []\n",
    "\n",
    "for gq in lab:\n",
    "    if gq == 'QSO':\n",
    "        y.append(1)\n",
    "    else:\n",
    "        y.append(0)\n",
    "\n",
    "y = np.array(lab=='QSO',dtype=int)"
   ]
  },
  {
   "cell_type": "code",
   "execution_count": 5,
   "id": "d56c80da",
   "metadata": {},
   "outputs": [],
   "source": [
    "d = dict(zip(names,data.T))\n",
    "\n",
    "for diff in ['ug', 'gr', 'ri', 'iz']:\n",
    "    d[diff]=d[diff[0]]-d[diff[1]] \n",
    "d['lab']=lab\n",
    "\n",
    "X=np.array([d['ug'], d['gr'], d['ri'], d['iz']]).T"
   ]
  },
  {
   "cell_type": "markdown",
   "id": "6bcd1b6d",
   "metadata": {},
   "source": [
    "**2)**"
   ]
  },
  {
   "cell_type": "markdown",
   "id": "e4dd8353",
   "metadata": {},
   "source": [
    "- Now we're going to fit a neural network classifier. First, scale your data appropriately and do a 30% train/test split."
   ]
  },
  {
   "cell_type": "markdown",
   "id": "956b51d7",
   "metadata": {},
   "source": [
    "**3)**"
   ]
  },
  {
   "cell_type": "markdown",
   "id": "16dd0cf2",
   "metadata": {},
   "source": [
    "- Now train the classifier. Use one the package among those we've seen. These include Tensorflow via keras, pytorch, and the multilayer perceptron classifier implemented in scikit-learn.\n",
    "\n",
    "- Start from a network architecture with a single hidden layer with 5 neurons, using the `adam` solver, the `relu` activation function, and a learninig rate of `0.001`. Plot the resulting ROC curve. "
   ]
  },
  {
   "cell_type": "code",
   "execution_count": 6,
   "id": "be62e60c",
   "metadata": {},
   "outputs": [],
   "source": [
    "scaler = StandardScaler() \n",
    "X_scaler = scaler.fit_transform(X)"
   ]
  },
  {
   "cell_type": "code",
   "execution_count": 7,
   "id": "beb4135a",
   "metadata": {},
   "outputs": [],
   "source": [
    "X_train, X_test, y_train, y_test = sklearn.model_selection.train_test_split(X_scaler, y, test_size=0.30,random_state=24)"
   ]
  },
  {
   "cell_type": "code",
   "execution_count": 8,
   "id": "115c3b15",
   "metadata": {},
   "outputs": [],
   "source": [
    "clf = sklearn.neural_network.MLPClassifier(hidden_layer_sizes=(5), alpha=0,learning_rate_init=0.001,max_iter=200)\n",
    "#activation{‘identity’, ‘logistic’, ‘tanh’, ‘relu’}, default=’relu’\n",
    "#solver{‘lbfgs’, ‘sgd’, ‘adam’}, default=’adam’"
   ]
  },
  {
   "cell_type": "code",
   "execution_count": 9,
   "id": "718d74c1",
   "metadata": {},
   "outputs": [
    {
     "data": {
      "image/png": "[encoded data removed]",
      "text/plain": [
       "<Figure size 640x480 with 1 Axes>"
      ]
     },
     "metadata": {},
     "output_type": "display_data"
    }
   ],
   "source": [
    "clf.fit(X_train,y_train)\n",
    "y_prob = clf.predict_proba(X_test) [:,1]\n",
    "fpr, tpr, thresh = roc_curve(y_test,y_prob)\n",
    "\n",
    "\n",
    "#ROC curve\n",
    "plt.plot(fpr,tpr,color='navy')\n",
    "plt.xlabel(\"fpr\")\n",
    "plt.ylabel(\"tpr\")\n",
    "plt.title(\"ROC curve\")\n",
    "plt.ylim(0.85,1.0)\n",
    "plt.show()"
   ]
  },
  {
   "cell_type": "markdown",
   "id": "d1b6a09c",
   "metadata": {},
   "source": [
    "**4)**"
   ]
  },
  {
   "cell_type": "markdown",
   "id": "0ba13ef6",
   "metadata": {},
   "source": [
    "- Now let's optimize the hyperparameters of your network. Explore different hyperparameters and see what fits the data best.  Do your best now to optimize the network architecture. "
   ]
  },
  {
   "cell_type": "code",
   "execution_count": 10,
   "id": "5c406e4e",
   "metadata": {},
   "outputs": [
    {
     "name": "stderr",
     "output_type": "stream",
     "text": [
      "C:\\Users\\utente\\anaconda3\\lib\\site-packages\\sklearn\\model_selection\\_validation.py:372: FitFailedWarning: \n",
      "60 fits failed out of a total of 120.\n",
      "The score on these train-test partitions for these parameters will be set to nan.\n",
      "If these failures are not expected, you can try to debug them by setting error_score='raise'.\n",
      "\n",
      "Below are more details about the failures:\n",
      "--------------------------------------------------------------------------------\n",
      "60 fits failed with the following error:\n",
      "Traceback (most recent call last):\n",
      "  File \"C:\\Users\\utente\\anaconda3\\lib\\site-packages\\sklearn\\model_selection\\_validation.py\", line 680, in _fit_and_score\n",
      "    estimator.fit(X_train, y_train, **fit_params)\n",
      "  File \"C:\\Users\\utente\\anaconda3\\lib\\site-packages\\sklearn\\neural_network\\_multilayer_perceptron.py\", line 752, in fit\n",
      "    return self._fit(X, y, incremental=False)\n",
      "  File \"C:\\Users\\utente\\anaconda3\\lib\\site-packages\\sklearn\\neural_network\\_multilayer_perceptron.py\", line 386, in _fit\n",
      "    raise ValueError(\n",
      "ValueError: hidden_layer_sizes must be > 0, got [0].\n",
      "\n",
      "  warnings.warn(some_fits_failed_message, FitFailedWarning)\n",
      "C:\\Users\\utente\\anaconda3\\lib\\site-packages\\sklearn\\model_selection\\_search.py:969: UserWarning: One or more of the test scores are non-finite: [    nan     nan     nan 0.98084 0.9808  0.98086     nan     nan     nan\n",
      " 0.98494 0.98266 0.98448     nan     nan     nan 0.98504 0.98318 0.98504\n",
      "     nan     nan     nan 0.9843  0.9824  0.98436]\n",
      "  warnings.warn(\n"
     ]
    }
   ],
   "source": [
    "grid = [\n",
    "        {\n",
    "        'activation' : ['identity', 'logistic', 'tanh', 'relu'],\n",
    "        'solver' : ['lbfgs', 'sgd', 'adam'],\n",
    "        'hidden_layer_sizes': (0,10)\n",
    "        }\n",
    "       ]\n",
    "\n",
    "gscv = GridSearchCV(clf,grid, scoring='accuracy', n_jobs=-1)\n",
    "gscv.fit(X_scaler, y)\n",
    "gscv.best_params_\n",
    "best_clf = gscv.best_estimator_"
   ]
  },
  {
   "cell_type": "code",
   "execution_count": 11,
   "id": "e2f75019",
   "metadata": {},
   "outputs": [
    {
     "data": {
      "image/png": "[encoded data removed]",
      "text/plain": [
       "<Figure size 640x480 with 1 Axes>"
      ]
     },
     "metadata": {},
     "output_type": "display_data"
    }
   ],
   "source": [
    "best_clf.fit(X_train,y_train)\n",
    "y_prob = best_clf.predict_proba(X_test) [:,1]\n",
    "fpr_best, tpr_best, thresh_best = roc_curve(y_test,y_prob)\n",
    "\n",
    "\n",
    "#ROC curve\n",
    "plt.plot(fpr_best,tpr_best,color='red')\n",
    "plt.xlabel(\"fpr\")\n",
    "plt.ylabel(\"tpr\")\n",
    "plt.title(\"ROC curve\")\n",
    "plt.ylim(0.85,1.0)\n",
    "plt.show()"
   ]
  },
  {
   "cell_type": "code",
   "execution_count": 12,
   "id": "6327c292",
   "metadata": {},
   "outputs": [
    {
     "data": {
      "image/png": "[encoded data removed]",
      "text/plain": [
       "<Figure size 640x480 with 1 Axes>"
      ]
     },
     "metadata": {},
     "output_type": "display_data"
    }
   ],
   "source": [
    "plt.plot(fpr,tpr,color='navy',label='Initial')\n",
    "plt.plot(fpr_best,tpr_best,color='red',label='Best')\n",
    "plt.legend()\n",
    "plt.show()"
   ]
  }
 ],
 "metadata": {
  "kernelspec": {
   "display_name": "Python 3 (ipykernel)",
   "language": "python",
   "name": "python3"
  },
  "language_info": {
   "codemirror_mode": {
    "name": "ipython",
    "version": 3
   },
   "file_extension": ".py",
   "mimetype": "text/x-python",
   "name": "python",
   "nbconvert_exporter": "python",
   "pygments_lexer": "ipython3",
   "version": "3.9.13"
  }
 },
 "nbformat": 4,
 "nbformat_minor": 5
}
