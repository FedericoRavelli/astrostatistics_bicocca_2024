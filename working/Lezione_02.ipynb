{
 "cells": [
  {
   "cell_type": "markdown",
   "id": "d34951b2",
   "metadata": {},
   "source": [
    "# Monty Hall problem"
   ]
  },
  {
   "cell_type": "code",
   "execution_count": 1,
   "id": "76d51fb1",
   "metadata": {},
   "outputs": [],
   "source": [
    "import numpy as np\n",
    "import pylab as plt\n",
    "import random"
   ]
  },
  {
   "cell_type": "code",
   "execution_count": 2,
   "id": "81cbd500",
   "metadata": {},
   "outputs": [],
   "source": [
    "Win = 1 #Gift\n",
    "Lost = 0 #Goat\n",
    "Doors = [0,0,0]\n",
    "Doors2 = [0,0]\n"
   ]
  },
  {
   "cell_type": "code",
   "execution_count": 3,
   "id": "c472f16f",
   "metadata": {},
   "outputs": [
    {
     "name": "stdout",
     "output_type": "stream",
     "text": [
      "33338\n",
      "0.33338\n"
     ]
    }
   ],
   "source": [
    "#giocatore conservativo\n",
    "N=100000\n",
    "counter=0\n",
    "for i in range(N):\n",
    "    #scelgo un indice random e associo a quell'indice il valore Win=1. In quella posizione ho la macchina\n",
    "    n = random.randint(0,2)\n",
    "    Doors[n] = Win\n",
    "    #Scelgo porta\n",
    "    choice = random.randint(0,2)\n",
    "    \n",
    "    if choice == n:\n",
    "        #print(\"Ho vinto\")\n",
    "        counter= counter+1\n",
    "    else:\n",
    "        #print(\"Ho perso\")\n",
    "        counter=counter\n",
    "Win_prob=counter/N\n",
    "print(counter)\n",
    "print(Win_prob)"
   ]
  },
  {
   "cell_type": "code",
   "execution_count": 4,
   "id": "8dcb9fdf",
   "metadata": {},
   "outputs": [
    {
     "name": "stdout",
     "output_type": "stream",
     "text": [
      "66521\n",
      "0.66521\n"
     ]
    }
   ],
   "source": [
    "#giocatore non conservativo (cambia la porta)\n",
    "N=100000\n",
    "counter=0\n",
    "for i in range(N):\n",
    "    #scelgo un indice random e associo a quell'indice il valore Win=1. In quella posizione ho la macchina\n",
    "    n = random.randint(0,2)\n",
    "    Doors[n] = Win\n",
    "    #Scelgo porta\n",
    "    choice = random.randint(0,2)\n",
    "    \n",
    "    if choice == n:\n",
    "        #print(\"Ho perso\")\n",
    "        counter= counter\n",
    "    else:\n",
    "        #print(\"Ho vinto\")\n",
    "        counter = counter+1\n",
    "        \n",
    "Win_prob=counter/N\n",
    "print(counter)\n",
    "print(Win_prob)"
   ]
  },
  {
   "cell_type": "code",
   "execution_count": 5,
   "id": "825e79fd",
   "metadata": {},
   "outputs": [
    {
     "name": "stdout",
     "output_type": "stream",
     "text": [
      "50136\n",
      "0.50136\n"
     ]
    }
   ],
   "source": [
    "#newcomer player\n",
    "N=100000\n",
    "counter=0\n",
    "for i in range(N):\n",
    "    #scelgo un indice random e associo a quell'indice il valore Win=1. In quella posizione ho la macchina\n",
    "    n = random.randint(0,1)\n",
    "    Doors[n] = Win\n",
    "    #Scelgo porta\n",
    "    choice = random.randint(0,1)\n",
    "    \n",
    "    if choice == n:\n",
    "        #print(\"Ho vinto\")\n",
    "        counter= counter+1\n",
    "    else:\n",
    "        #print(\"Ho perso\")\n",
    "        counter=counter\n",
    "Win_prob=counter/N\n",
    "print(counter)\n",
    "print(Win_prob)"
   ]
  },
  {
   "cell_type": "code",
   "execution_count": 6,
   "id": "df51d8bb",
   "metadata": {},
   "outputs": [
    {
     "name": "stdout",
     "output_type": "stream",
     "text": [
      "[0. 0. 0. 0. 0. 0. 0. 0. 0. 0. 0. 0. 0. 0. 0. 0. 0. 0. 0. 0. 0. 0. 0. 0.\n",
      " 0. 0. 0. 0. 0. 0. 0. 0. 0. 0. 0. 0. 0. 0. 0. 0. 0. 0. 0. 0. 0. 0. 0. 0.\n",
      " 0. 0. 0. 0. 0. 0. 0. 0. 0. 0. 0. 0. 0. 0. 0. 0. 0. 0. 0. 0. 0. 0. 0. 0.\n",
      " 0. 0. 0. 0. 0. 0. 0. 0. 0. 0. 0. 0. 0. 0. 0. 0. 0. 0. 0. 0. 0. 0. 0. 0.\n",
      " 0. 0. 0. 0.]\n",
      "964\n",
      "0.00964\n"
     ]
    }
   ],
   "source": [
    "#I have 100 doors and presenter opens 98 of them, conservative player\n",
    "import numpy as np\n",
    "import random\n",
    "\n",
    "N=100000\n",
    "Win=1\n",
    "Lost=0\n",
    "N_doors = 100\n",
    "counter=0\n",
    "Doors2 = np.zeros(shape=2)\n",
    "Doors =np.zeros(shape=N_doors)\n",
    "print(Doors)\n",
    "for i in range(N):\n",
    "    #scelgo un indice random e associo a quell'indice il valore Win=1. In quella posizione ho la macchina\n",
    "    n = random.randint(0,99)\n",
    "    #print(n)\n",
    "    Doors[n] = Win\n",
    "    #Scelgo porta\n",
    "    choice = random.randint(0,99)\n",
    "    #print(choice)\n",
    "\n",
    "    # presenter opens 98 doors\n",
    "    Doors2[Lost] = Doors[choice]\n",
    "    if Doors2[Lost]==Doors[n]:\n",
    "        Doors2[Win]=Lost\n",
    "    else:\n",
    "        Doors2[Win]=Win\n",
    "    \n",
    "    if choice == n:\n",
    "        #print(\"Ho vinto\")\n",
    "        counter= counter+1\n",
    "    else:\n",
    "        #print(\"Ho perso\")\n",
    "        counter=counter\n",
    "Win_prob=counter/N\n",
    "print(counter)\n",
    "print(Win_prob)"
   ]
  },
  {
   "cell_type": "code",
   "execution_count": 7,
   "id": "f1119327",
   "metadata": {},
   "outputs": [
    {
     "name": "stdout",
     "output_type": "stream",
     "text": [
      "[0. 0. 0. 0. 0. 0. 0. 0. 0. 0. 0. 0. 0. 0. 0. 0. 0. 0. 0. 0. 0. 0. 0. 0.\n",
      " 0. 0. 0. 0. 0. 0. 0. 0. 0. 0. 0. 0. 0. 0. 0. 0. 0. 0. 0. 0. 0. 0. 0. 0.\n",
      " 0. 0. 0. 0. 0. 0. 0. 0. 0. 0. 0. 0. 0. 0. 0. 0. 0. 0. 0. 0. 0. 0. 0. 0.\n",
      " 0. 0. 0. 0. 0. 0. 0. 0. 0. 0. 0. 0. 0. 0. 0. 0. 0. 0. 0. 0. 0. 0. 0. 0.\n",
      " 0. 0. 0. 0.]\n",
      "99004\n",
      "0.99004\n"
     ]
    }
   ],
   "source": [
    "#I have 100 doors and presenter opens 98 of them, non conservative player\n",
    "import numpy as np\n",
    "import random\n",
    "\n",
    "N=100000\n",
    "Win=1\n",
    "Lost=0\n",
    "N_doors = 100\n",
    "counter=0\n",
    "Doors2 = np.zeros(shape=2)\n",
    "Doors =np.zeros(shape=N_doors)\n",
    "print(Doors)\n",
    "for i in range(N):\n",
    "    #scelgo un indice random e associo a quell'indice il valore Win=1. In quella posizione ho la macchina\n",
    "    n = random.randint(0,99)\n",
    "    #print(n)\n",
    "    Doors[n] = Win\n",
    "    #Scelgo porta\n",
    "    choice = random.randint(0,99)\n",
    "    #print(choice)\n",
    "\n",
    "    # presenter opens 98 doors\n",
    "    Doors2[Lost] = Doors[choice]\n",
    "    if Doors2[Lost]==Doors[n]:\n",
    "        Doors2[Win]=Lost\n",
    "    else:\n",
    "        Doors2[Win]=Win\n",
    "    \n",
    "    if choice == n:\n",
    "        #print(\"Ho perso\")\n",
    "        counter= counter\n",
    "    else:\n",
    "        #print(\"Ho vinto\")\n",
    "        counter = counter+1\n",
    "Win_prob=counter/N\n",
    "print(counter)\n",
    "print(Win_prob)"
   ]
  },
  {
   "cell_type": "code",
   "execution_count": null,
   "id": "ee042837",
   "metadata": {},
   "outputs": [],
   "source": []
  },
  {
   "cell_type": "code",
   "execution_count": null,
   "id": "4f42c221",
   "metadata": {},
   "outputs": [],
   "source": []
  }
 ],
 "metadata": {
  "kernelspec": {
   "display_name": "Python 3 (ipykernel)",
   "language": "python",
   "name": "python3"
  },
  "language_info": {
   "codemirror_mode": {
    "name": "ipython",
    "version": 3
   },
   "file_extension": ".py",
   "mimetype": "text/x-python",
   "name": "python",
   "nbconvert_exporter": "python",
   "pygments_lexer": "ipython3",
   "version": "3.9.13"
  }
 },
 "nbformat": 4,
 "nbformat_minor": 5
}
